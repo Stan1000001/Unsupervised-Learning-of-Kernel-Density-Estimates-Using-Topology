{
 "cells": [
  {
   "cell_type": "code",
   "execution_count": 1,
   "metadata": {},
   "outputs": [],
   "source": [
    "import tensorflow as tf\n",
    "import numpy as np\n",
    "import matplotlib.pyplot as plt\n",
    "plt.rc('text', usetex=True)\n",
    "plt.rc('font', family='serif')\n",
    "\n",
    "\n",
    "import seaborn as sns\n",
    "import gudhi as gd\n",
    "from scipy.stats import norm"
   ]
  },
  {
   "cell_type": "markdown",
   "metadata": {},
   "source": [
    "# Trivariate"
   ]
  },
  {
   "cell_type": "markdown",
   "metadata": {},
   "source": [
    "### Sampling From a PDF (Metropolis Hastings)"
   ]
  },
  {
   "cell_type": "code",
   "execution_count": 2,
   "metadata": {},
   "outputs": [],
   "source": [
    "def metropolis_hastings(unnormalized_density, n_samples, proposal_width=1):\n",
    "    samples = np.zeros((n_samples, 3))\n",
    "    current_x, current_y, current_z = np.random.randn(3)\n",
    "    current_density = unnormalized_density(current_x, current_y, current_z)\n",
    "    \n",
    "    # Run the Markov chain\n",
    "    for i in range(n_samples):\n",
    "        proposed_x = current_x + proposal_width * np.random.randn()\n",
    "        proposed_y = current_y + proposal_width * np.random.randn()\n",
    "        proposed_z = current_z + proposal_width * np.random.randn()\n",
    "        proposed_density = unnormalized_density(proposed_x, proposed_y, proposed_z)\n",
    "        \n",
    "        acceptance_ratio = proposed_density / current_density\n",
    "        \n",
    "        if np.random.rand() < acceptance_ratio:\n",
    "            current_x, current_y, current_z = proposed_x, proposed_y, proposed_z\n",
    "            current_density = proposed_density\n",
    "        \n",
    "        samples[i] = [current_x, current_y, current_z]\n",
    "    \n",
    "    return samples\n",
    "\n",
    "# Generate samples\n",
    "def generate_samples(unnormalized_density, n_samples=10000, burn_in=1000, proposal_width=0.5):\n",
    "    all_samples = metropolis_hastings(unnormalized_density, n_samples + burn_in, proposal_width)\n",
    "    samples = all_samples[burn_in:]\n",
    "    return samples"
   ]
  },
  {
   "cell_type": "code",
   "execution_count": 3,
   "metadata": {},
   "outputs": [],
   "source": [
    "def gauss1_pdf(x, y, z, h=0):\n",
    "    return np.exp(-(x**2 - h)**2 - (y**2 - h)**2 - (z**2 - h)**2)\n",
    "\n",
    "gauss1 = generate_samples(gauss1_pdf, n_samples=1500, burn_in=10000, proposal_width=1)"
   ]
  },
  {
   "cell_type": "code",
   "execution_count": 4,
   "metadata": {},
   "outputs": [],
   "source": [
    "name = 'gauss1'\n",
    "X_3D = gauss1"
   ]
  },
  {
   "cell_type": "markdown",
   "metadata": {},
   "source": [
    "# Grid Search with Early Stopping at Relative Change equal to stability_threshold"
   ]
  },
  {
   "cell_type": "code",
   "execution_count": 5,
   "metadata": {},
   "outputs": [],
   "source": [
    "import tensorflow as tf\n",
    "import numpy as np\n",
    "import matplotlib.pyplot as plt\n",
    "from scipy.stats import gaussian_kde\n",
    "import gudhi.cubical_complex as cubical\n",
    "\n",
    "def topology_loss(persistence_diagram, lambda1=0.8):\n",
    "    lifetimes = np.array([d[1][1] - d[1][0] for d in persistence_diagram if d[1][1] < np.inf])\n",
    "    if len(lifetimes) == 0:\n",
    "        return tf.constant(np.inf, dtype=tf.float32)\n",
    "    lifetimes_tf = tf.constant(lifetimes, dtype=tf.float32)\n",
    "    feature_complexity = tf.reduce_sum(-lifetimes_tf)\n",
    "    betti_numbers = tf.cast(len(lifetimes), dtype=tf.float32)\n",
    "    return lambda1 * feature_complexity + (1 - lambda1) * betti_numbers\n",
    "\n",
    "def compute_cubical_persistence(density_values, grid_shape):\n",
    "    density_values = density_values / density_values.max()\n",
    "    function_values = np.array(density_values).reshape(grid_shape)\n",
    "    cc = cubical.CubicalComplex(top_dimensional_cells=function_values)\n",
    "    persistence = cc.persistence()\n",
    "    return persistence\n",
    "\n",
    "def kde_density_tf(X, x_grid, y_grid, z_grid, bw):\n",
    "    X_np = X.numpy()\n",
    "    \n",
    "    x_grid_np = x_grid.numpy().flatten()\n",
    "    y_grid_np = y_grid.numpy().flatten()\n",
    "    z_grid_np = z_grid.numpy().flatten()\n",
    "    bw = bw.numpy()\n",
    "    \n",
    "    grid_points = np.vstack([x_grid_np, y_grid_np, z_grid_np]).T\n",
    "\n",
    "    kde = gaussian_kde(X_np.T, bw_method=bw)\n",
    "    densities = kde(grid_points.T)\n",
    "    return tf.convert_to_tensor(densities, dtype=tf.float32)\n",
    "\n",
    "def optimize_bandwidth_topology_tf(X, bandwidth_range, grid_shape, stability_threshold=0.1):\n",
    "    losses = []\n",
    "    stable_bandwidth = None\n",
    "\n",
    "    x_min, x_max = X[:, 0].min(), X[:, 0].max()\n",
    "    y_min, y_max = X[:, 1].min(), X[:, 1].max()\n",
    "    z_min, z_max = X[:, 2].min(), X[:, 2].max()\n",
    "    x_grid, y_grid, z_grid = np.meshgrid(np.linspace(x_min, x_max, grid_shape[0]), \n",
    "                                        np.linspace(y_min, y_max, grid_shape[1]),\n",
    "                                        np.linspace(z_min, z_max, grid_shape[2]))\n",
    "    \n",
    "    X_tf = tf.constant(X, dtype=tf.float32)\n",
    "    x_grid_tf = tf.constant(x_grid, dtype=tf.float32)\n",
    "    y_grid_tf = tf.constant(y_grid, dtype=tf.float32)\n",
    "    z_grid_tf = tf.constant(z_grid, dtype=tf.float32)\n",
    "\n",
    "    for i, bw in enumerate(bandwidth_range):\n",
    "        bw_tf = tf.constant(bw, dtype=tf.float32)\n",
    "        with tf.GradientTape() as tape:\n",
    "            tape.watch(bw_tf)\n",
    "            density_values = kde_density_tf(X_tf, x_grid_tf, y_grid_tf, z_grid_tf, bw_tf)\n",
    "            persistence = compute_cubical_persistence(density_values.numpy(), grid_shape)\n",
    "            loss = topology_loss(persistence)\n",
    "\n",
    "        losses.append(loss.numpy())\n",
    "\n",
    "        if i > 1:\n",
    "            change = abs(losses[-1] - losses[-2]) / abs(losses[-2]) if losses[-2] != 0 else 0\n",
    "            if change < stability_threshold:\n",
    "                if stable_bandwidth is None:\n",
    "                    stable_bandwidth = bw\n",
    "                    break\n",
    "\n",
    "    if stable_bandwidth is None:\n",
    "        stable_bandwidth = bandwidth_range[np.argmin(losses)]\n",
    "\n",
    "    return stable_bandwidth, losses"
   ]
  },
  {
   "cell_type": "code",
   "execution_count": 6,
   "metadata": {},
   "outputs": [],
   "source": [
    "h_range = np.linspace(0.05, 1.5, 10)\n",
    "grid_shape = (10, 10, 10)"
   ]
  },
  {
   "cell_type": "code",
   "execution_count": 7,
   "metadata": {},
   "outputs": [],
   "source": [
    "best_bandwidth, losses = optimize_bandwidth_topology_tf(X_3D, h_range, grid_shape, stability_threshold=0.01)\n",
    "kde = gaussian_kde(X_3D.T, bw_method=best_bandwidth)"
   ]
  },
  {
   "cell_type": "code",
   "execution_count": 8,
   "metadata": {},
   "outputs": [
    {
     "data": {
      "image/png": "[encoded data removed]",
      "text/plain": [
       "<Figure size 1000x400 with 1 Axes>"
      ]
     },
     "metadata": {},
     "output_type": "display_data"
    }
   ],
   "source": [
    "plt.figure(figsize=(10, 4))\n",
    "plt.plot(h_range[:len(losses)], losses, marker='o', label=\"Topology Loss\")\n",
    "plt.axvline(best_bandwidth, color='r', linestyle='--', label=f\"Optimal h={best_bandwidth:.2f}\")\n",
    "plt.xlabel(\"Bandwidth (h)\")\n",
    "plt.ylabel(\"Topology-Based Loss\")\n",
    "plt.legend()\n",
    "plt.show()"
   ]
  },
  {
   "cell_type": "markdown",
   "metadata": {},
   "source": [
    "# KDE Comparison (Trivariate)"
   ]
  },
  {
   "cell_type": "code",
   "execution_count": 9,
   "metadata": {},
   "outputs": [],
   "source": [
    "from scipy.stats import gaussian_kde\n",
    "from sklearn.model_selection import GridSearchCV\n",
    "from sklearn.neighbors import KernelDensity\n",
    "\n",
    "x_min, x_max = X_3D[:, 0].min(), X_3D[:, 0].max()\n",
    "y_min, y_max = X_3D[:, 1].min(), X_3D[:, 1].max()\n",
    "z_min, z_max = X_3D[:, 2].min(), X_3D[:, 2].max()\n",
    "\n",
    "X, Y, Z = np.meshgrid(np.linspace(x_min, x_max, grid_shape[0]), \n",
    "                   np.linspace(y_min, y_max, grid_shape[1]),\n",
    "                   np.linspace(z_min, z_max, grid_shape[2]))\n",
    "\n",
    "positions = np.vstack([X.ravel(), Y.ravel(), Z.ravel()])\n",
    "###############################\n",
    "\n",
    "pdf1 = gaussian_kde(X_3D.T, bw_method='scott')(positions)\n",
    "\n",
    "pdf2 = gaussian_kde(X_3D.T, bw_method='silverman')(positions)\n",
    "\n",
    "grid_search = GridSearchCV(KernelDensity(), {'bandwidth': h_range}, cv=5)\n",
    "grid_search.fit(X_3D)\n",
    "pdf3 = gaussian_kde(X_3D.T, bw_method=grid_search.best_params_['bandwidth'])(positions)\n",
    "\n",
    "###############################\n",
    "\n",
    "top_pdf1 = gaussian_kde(X_3D.T, bw_method=best_bandwidth)(positions)"
   ]
  },
  {
   "cell_type": "code",
   "execution_count": 10,
   "metadata": {},
   "outputs": [
    {
     "name": "stdout",
     "output_type": "stream",
     "text": [
      "Integral of PDF: 5.947451703528163\n",
      "Integral of PDF: 0.9912220444454792\n",
      "Integral of PDF: 0.9921016075940013\n",
      "Integral of PDF: 0.9923332695739555\n",
      "Integral of PDF: 0.6272524117773243\n"
     ]
    }
   ],
   "source": [
    "def normalize_pdf(pdf_true, x, y, z):\n",
    "\n",
    "    dx = x[0, 1, 0] - x[0, 0, 0]\n",
    "    dy = y[1, 0, 0] - y[0, 0, 0]\n",
    "    dz = z[0, 0, 1] - z[0, 0, 0]\n",
    "\n",
    "    d_area = dx * dy * dz\n",
    "\n",
    "    integral_true = np.sum(pdf_true) * d_area\n",
    "    print(f\"Integral of PDF: {integral_true}\")\n",
    "    if integral_true > 0:\n",
    "        pdf_true_normalized = pdf_true / integral_true\n",
    "    else:\n",
    "        pdf_true_normalized = np.zeros_like(pdf_true)\n",
    "\n",
    "    return pdf_true_normalized\n",
    "\n",
    "Z_true = globals()[f'gauss1_pdf'](X, Y, Z)\n",
    "Z_true = normalize_pdf(Z_true, X, Y, Z)\n",
    "\n",
    "Zs = [pdf1, pdf2, pdf3, top_pdf1]\n",
    "Zs = [dens.reshape(grid_shape) for dens in Zs]\n",
    "Zs = [normalize_pdf(dens, X, Y, Z) for dens in Zs]\n",
    "Zs.append(Z_true)\n",
    "\n",
    "kdes = Zs"
   ]
  },
  {
   "cell_type": "code",
   "execution_count": 11,
   "metadata": {},
   "outputs": [
    {
     "name": "stdout",
     "output_type": "stream",
     "text": [
      "KLD for each KDE:\n",
      "KLD 0: 0.14459883145422625\n",
      "KLD 1: 0.15429331816299666\n",
      "KLD 2: 0.5352034473415467\n",
      "KLD 3: 0.3647991168968628\n",
      "KLD 4: 0.0\n"
     ]
    }
   ],
   "source": [
    "def kl_divergence_3d(pdf_true_normalized, kde_normalized, x, y, z):\n",
    "    dx = x[0, 1, 0] - x[0, 0, 0]\n",
    "    dy = y[1, 0, 0] - y[0, 0, 0]\n",
    "    dz = z[0, 0, 1] - z[0, 0, 0]\n",
    "\n",
    "    d_volume = dx * dy * dz\n",
    "    kde_normalized = np.where(kde_normalized == 0, 1e-10, kde_normalized)\n",
    "    kl_div_elements = np.where(pdf_true_normalized > 0,\n",
    "                               pdf_true_normalized * np.log(pdf_true_normalized / kde_normalized),\n",
    "                               0)\n",
    "    kl_div = np.nansum(kl_div_elements) * d_volume\n",
    "    return kl_div\n",
    "\n",
    "klds = [kl_divergence_3d(Z_true, kdes[i], X, Y, Z) for i in range(len(kdes))]\n",
    "\n",
    "print(\"KLD for each KDE:\")\n",
    "for i, ll in enumerate(klds):\n",
    "    print(f\"KLD {i}: {ll}\")"
   ]
  },
  {
   "cell_type": "code",
   "execution_count": 12,
   "metadata": {},
   "outputs": [
    {
     "name": "stderr",
     "output_type": "stream",
     "text": [
      "c:\\Python311\\Lib\\site-packages\\ot\\lp\\__init__.py:571: UserWarning: numItermax reached before optimality. Try to increase numItermax.\n",
      "  check_result(result_code)\n"
     ]
    },
    {
     "name": "stdout",
     "output_type": "stream",
     "text": [
      "EMD for each 3D KDE:\n",
      "EMD 0: 2.4830789310719483\n",
      "EMD 1: 2.4975042505585656\n",
      "EMD 2: 3.039176286904454\n",
      "EMD 3: 5.592752860948762\n",
      "EMD 4: 1.935404290376408e-17\n"
     ]
    }
   ],
   "source": [
    "import ot\n",
    "def earth_movers_distance_3d(pdf1, pdf2, x, y, z):\n",
    "\n",
    "    dx = x[0, 1, 0] - x[0, 0, 0]\n",
    "    dy = y[1, 0, 0] - y[0, 0, 0]\n",
    "    dz = z[0, 0, 1] - z[0, 0, 0]\n",
    "\n",
    "    dV = dx * dy * dz\n",
    "\n",
    "    pdf1 = pdf1.flatten() / (np.sum(pdf1) * dV)\n",
    "    pdf2 = pdf2.flatten() / (np.sum(pdf2) * dV)\n",
    "    points = np.vstack([x.ravel(), y.ravel(), z.ravel()]).T\n",
    "\n",
    "    cost_matrix = ot.dist(points, points)\n",
    "    wasserstein_dist = ot.emd2(pdf1, pdf2, cost_matrix, numItermax=10000)\n",
    "    return wasserstein_dist\n",
    "\n",
    "emds = [earth_movers_distance_3d(Z_true, kdes[i], X, Y, Z) for i in range(len(kdes))]\n",
    "\n",
    "print(\"EMD for each 3D KDE:\")\n",
    "for i, ll in enumerate(emds):\n",
    "    print(f\"EMD {i}: {ll}\")"
   ]
  },
  {
   "cell_type": "markdown",
   "metadata": {},
   "source": [
    "# Loop to Generate 1500 Simulations"
   ]
  },
  {
   "cell_type": "code",
   "execution_count": null,
   "metadata": {},
   "outputs": [],
   "source": [
    "for i in range(1500):\n",
    "\n",
    "    gauss1 = generate_samples(gauss1_pdf, n_samples=5000, burn_in=10000, proposal_width=1)\n",
    "\n",
    "    filename = \"gauss1_{}.npy\".format(i)\n",
    "    np.save(filename, gauss1, allow_pickle=True)"
   ]
  },
  {
   "cell_type": "code",
   "execution_count": null,
   "metadata": {},
   "outputs": [
    {
     "name": "stdout",
     "output_type": "stream",
     "text": [
      "Integral of PDF: 5.956160317014261\n",
      "Integral of PDF: 0.9982441830015153\n",
      "Integral of PDF: 0.9984921626181414\n",
      "Integral of PDF: 0.9997661505953984\n",
      "Integral of PDF: 0.9861698325224678\n"
     ]
    }
   ],
   "source": [
    "h_range = np.linspace(0.05, 1.5, 100)\n",
    "grid_shape = (100, 100, 100)\n",
    "\n",
    "for cat in ['gauss1']:\n",
    "\n",
    "    for i in range(1500):\n",
    "        X_3D = np.load(f'{cat}_{i}.npy', allow_pickle=True)\n",
    "        bw, losses = optimize_bandwidth_topology_tf(X_3D, h_range, grid_shape, stability_threshold=0.01)\n",
    "\n",
    "        ##############################\n",
    "        \n",
    "        x_min, x_max = X_3D[:, 0].min(), X_3D[:, 0].max()\n",
    "        y_min, y_max = X_3D[:, 1].min(), X_3D[:, 1].max()\n",
    "        z_min, z_max = X_3D[:, 2].min(), X_3D[:, 2].max()\n",
    "\n",
    "        X, Y, Z = np.meshgrid(np.linspace(x_min, x_max, grid_shape[0]), \n",
    "                        np.linspace(y_min, y_max, grid_shape[1]),\n",
    "                        np.linspace(z_min, z_max, grid_shape[2]))\n",
    "\n",
    "        positions = np.vstack([X.ravel(), Y.ravel(), Z.ravel()])\n",
    "\n",
    "        ###############################\n",
    "\n",
    "        pdf1 = gaussian_kde(X_3D.T, bw_method='scott')(positions)\n",
    "\n",
    "        pdf2 = gaussian_kde(X_3D.T, bw_method='silverman')(positions)\n",
    "\n",
    "        grid_search = GridSearchCV(KernelDensity(), {'bandwidth': h_range}, cv=5)\n",
    "        grid_search.fit(X_3D)\n",
    "        pdf3 = gaussian_kde(X_3D.T, bw_method=grid_search.best_params_['bandwidth'])(positions)\n",
    "\n",
    "        ################################\n",
    "\n",
    "        top_pdf1 = gaussian_kde(X_3D.T, bw_method=bw)(positions)\n",
    "\n",
    "        Z_true = globals()[f'{cat}_pdf'](X, Y, Z)\n",
    "        Z_true = normalize_pdf(Z_true, X, Y, Z)\n",
    "\n",
    "        Zs = [pdf1, pdf2, pdf3, top_pdf1]\n",
    "        Zs = [dens.reshape(grid_shape) for dens in Zs]\n",
    "        Zs = [normalize_pdf(dens, X, Y, Z) for dens in Zs]\n",
    "        Zs.append(Z_true)\n",
    "\n",
    "        kdes = Zs\n",
    "\n",
    "        klds = [kl_divergence_3d(Z_true, kdes[i], X, Y, Z) for i in range(len(kdes))]\n",
    "\n",
    "        filename = \"{}_KLD_{}.npy\".format(cat, i)\n",
    "        np.save(filename, np.array(klds), allow_pickle=True)"
   ]
  },
  {
   "cell_type": "code",
   "execution_count": null,
   "metadata": {},
   "outputs": [
    {
     "name": "stdout",
     "output_type": "stream",
     "text": [
      "[0.0776868  0.08240196 0.2055445  0.08057553 0.        ]\n",
      "[0. 0. 0. 0. 0.]\n"
     ]
    }
   ],
   "source": [
    "for cat in ['gauss1']:\n",
    "\n",
    "    klds = []\n",
    "    for i in range(1500):\n",
    "\n",
    "        filename = \"{}_KLD_{}.npy\".format(cat, i)\n",
    "        klds.append(np.load(filename, allow_pickle=True))\n",
    "\n",
    "    klds = np.array(klds)\n",
    "\n",
    "    print(np.mean(klds[~np.isinf(klds).any(axis=1)], axis=0))\n",
    "    print(np.std(klds[~np.isinf(klds).any(axis=1)], axis=0))"
   ]
  },
  {
   "cell_type": "code",
   "execution_count": null,
   "metadata": {},
   "outputs": [],
   "source": []
  }
 ],
 "metadata": {
  "kernelspec": {
   "display_name": "Python 3",
   "language": "python",
   "name": "python3"
  },
  "language_info": {
   "codemirror_mode": {
    "name": "ipython",
    "version": 3
   },
   "file_extension": ".py",
   "mimetype": "text/x-python",
   "name": "python",
   "nbconvert_exporter": "python",
   "pygments_lexer": "ipython3",
   "version": "3.11.0"
  }
 },
 "nbformat": 4,
 "nbformat_minor": 2
}
